{
 "cells": [
  {
   "cell_type": "code",
   "execution_count": null,
   "id": "ccf1697d",
   "metadata": {},
   "outputs": [],
   "source": [
    "\n",
    "\n",
    "\n",
    "\n",
    "\n",
    "def load_data():\n",
    "\n",
    "    import pandas as pd\n",
    "\n",
    "    dataset = pd.read_csv(\"../files/input/heart_disease.csv\")\n",
    "    y = dataset.pop(\"target\")\n",
    "    x = dataset.copy()\n",
    "    x[\"thal\"] = x[\"thal\"].map(\n",
    "        lambda x: \"normal\" if x not in [\"fixed\", \"fixed\", \"reversible\"] else x\n",
    "    )\n",
    "\n",
    "    return x, y\n",
    "\n",
    "\n",
    "x, y = load_data()\n",
    "x\n",
    "\n",
    "\n",
    "\n",
    "\n",
    "\n",
    "\n",
    "\n",
    "\n",
    "\n",
    "\n",
    "\n",
    "\n",
    "\n",
    "\n",
    "\n"
   ]
  },
  {
   "cell_type": "markdown",
   "id": "563cdd54",
   "metadata": {},
   "source": [
    "```\n",
    "Column     Description                                             Feature Type\n",
    "---------------------------------------------------------------------------------\n",
    "Age        Age in years                                            Numerical\n",
    "Sex        (1 = male; 0 = female)                                  Categorical\n",
    "CP         Chest pain type (0, 1, 2, 3, 4)                         Categorical\n",
    "Trestbpd   Resting blood pressure (in mm Hg on admission)          Numerical  \n",
    "Chol       Serum cholesterol in mg/dl                              Numerical\n",
    "FBS        fasting blood sugar in 120 mg/dl (1 = true; 0 = false)  Categorical\n",
    "RestECG    Resting electrocardiogram results (0, 1, 2)             Categorical \n",
    "Thalach    Maximum heart rate achieved                             Numerical\n",
    "Exang      Exercise induced angina (1 = yes; 0 = no)               Categorical\n",
    "Oldpeak    ST depression induced by exercise relative to rest      Numerical\n",
    "Slope      Slope of the peak exercise ST segment                   Numerical\n",
    "CA         Number of major vessels (0-3) colored by fluoroscopy    Categorical\n",
    "Thal       3 = normal; 6 = fixed defect; 7 = reversible defect     Categorical\n",
    "Target     Diagnosis of heart disease (1 = true; 0 = false)        Target\n",
    "```\n"
   ]
  }
 ],
 "metadata": {
  "kernelspec": {
   "display_name": ".venv",
   "language": "python",
   "name": "python3"
  },
  "language_info": {
   "codemirror_mode": {
    "name": "ipython",
    "version": 3
   },
   "file_extension": ".py",
   "mimetype": "text/x-python",
   "name": "python",
   "nbconvert_exporter": "python",
   "pygments_lexer": "ipython3",
   "version": "3.13.5"
  }
 },
 "nbformat": 4,
 "nbformat_minor": 5
}
